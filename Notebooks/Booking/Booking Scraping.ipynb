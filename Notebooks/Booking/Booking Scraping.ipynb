{
 "cells": [
  {
   "cell_type": "code",
   "execution_count": null,
   "id": "77755659",
   "metadata": {},
   "outputs": [],
   "source": [
    "import pandas as pd\n",
    "from selenium import webdriver\n",
    "from selenium.webdriver.common.by import By\n",
    "\n",
    "from datetime import datetime, timedelta\n",
    "import time\n",
    "import os\n",
    "\n",
    "import warnings\n",
    "warnings.filterwarnings('ignore')"
   ]
  },
  {
   "cell_type": "code",
   "execution_count": null,
   "id": "09a8d636",
   "metadata": {},
   "outputs": [],
   "source": [
    "#A function get url, driver ,the information on reservation time and df and returns an updated df with the 100 additional hotels.\n",
    "Unsuccessful_list  = [] # A list that saves the names of the hotels that have a problem in order to optimize and not try to extract information again\n",
    "def get_hotels(url , driver ,booking_df,Snapshot_date,checking_date_type,checkout_date_type):\n",
    "    driver.get(url)\n",
    "    time.sleep(1)\n",
    "    hotel_name_list =[]\n",
    "    page_number=1\n",
    "    index = 1\n",
    "    while(len(hotel_name_list) <100 and page_number<=5): #take 100 hotel \n",
    "        time.sleep(2)\n",
    "        text_boxes_list = driver.find_elements(by= By.CLASS_NAME , value='b978843432')\n",
    "        for t_box in text_boxes_list:# run on full page\n",
    "            if (len(hotel_name_list) >= 100):\n",
    "                break\n",
    "            try:\n",
    "                hotel = {'Snapshot' : None ,'Index':None,'Hotel Name':None,'TTT':None,'LOS':None ,\"Grade\":None,\n",
    "                         \"Num of Reviews\":None,\"Curr Price\":None,\"Original Price\":None,\"Distance from center\":None,\n",
    "                         \"Type of room\":None,\"Location grade\":None ,\"Extra Data\":None}\n",
    "                name = t_box.find_element(by= By.CLASS_NAME , value=\"e13098a59f\").text\n",
    "                name = name.split('\\n')[0]\n",
    "                if(name in hotel_name_list):#Avoid hotels that are advertised several times\n",
    "                    continue   \n",
    "                if (name in Unsuccessful_list):#Avoid hotels that we cannot extract\n",
    "                    continue\n",
    "                hotel['Hotel Name'] = (name)\n",
    "                hotel['Snapshot'] = Snapshot_date\n",
    "                delta_TTT =  checking_date_type - Snapshot_date\n",
    "                hotel['TTT'] = delta_TTT.days\n",
    "                delta_LOS = checkout_date_type - checking_date_type\n",
    "                hotel['LOS'] = delta_LOS.days\n",
    "                score_detail = t_box.find_element(by =By.CSS_SELECTOR,value ='[data-testid=\"review-score\"]').text\n",
    "                score_detail_list = score_detail.split('\\n')\n",
    "                hotel[\"Grade\"] = (score_detail_list[0])\n",
    "                hotel[\"Num of Reviews\"] = (score_detail_list[2])\n",
    "                hotel[\"Curr Price\"] = (t_box.find_element(by =By.CSS_SELECTOR,value ='[data-testid=\"price-and-discounted-price\"]').text)\n",
    "                hotel[\"Index\"] = index\n",
    "                hotel[\"Extra Data\"] = t_box.find_element(by= By.CLASS_NAME , value=\"d22a7c133b\").text\n",
    "                hotel[\"Distance from center\"] =  t_box.find_element(by =By.CSS_SELECTOR,value ='[data-testid=\"distance\"]').text\n",
    "                hotel[\"Type of room\"] = t_box.find_element(by= By.CLASS_NAME , value=\"df597226dd\").text\n",
    "                \n",
    "                try:\n",
    "                    hotel[\"Location grade\"] = t_box.find_element(by= By.CLASS_NAME , value=\"f9afbb0024\").text \n",
    "                except:\n",
    "                    hotel[\"Location grade\"] = None\n",
    "            \n",
    "                try:\n",
    "                    hotel[\"Original Price\"] = t_box.find_element(by =By.XPATH,value ='.//*[@class=\"c5888af24f e729ed5ab6\"]').text     \n",
    "                except:\n",
    "                    hotel[\"Original Price\"] = hotel[\"Curr Price\"]\n",
    "                \n",
    "                booking_df = booking_df.append(hotel, ignore_index=True)#add the new hotel\n",
    "                hotel_name_list.append(name) #add the new hotel name\n",
    "                index = index +1\n",
    "            except:\n",
    "                print(\"error \" + name)\n",
    "                Unsuccessful_list.append(name)\n",
    "        # change page\n",
    "        if( len(hotel_name_list)< 100): \n",
    "            button=driver.find_element(by =By.CSS_SELECTOR,value =f'[aria-label=\" {page_number+1}\"]')\n",
    "            time.sleep(1.5)\n",
    "            button.click() \n",
    "            page_number = page_number+1\n",
    "    \n",
    "    \n",
    "    return booking_df\n",
    "    "
   ]
  },
  {
   "cell_type": "code",
   "execution_count": null,
   "id": "f1845f9a",
   "metadata": {},
   "outputs": [],
   "source": [
    "#Allows us to run on different computers without a problem\n",
    "\n",
    "path ={'roy' :'C:\\Windows\\chromdriver.exe' , 'yarin': r\"C:\\Users\\yarin\\chromedriver.exe\" , 'yair':'C:\\Windows\\chromdriver.exe' }\n",
    "driver = webdriver.Chrome(path['yarin'])"
   ]
  },
  {
   "cell_type": "code",
   "execution_count": null,
   "id": "6f1457a3",
   "metadata": {},
   "outputs": [],
   "source": [
    "# Get today's date\n",
    "now = datetime.now()\n",
    "Snapshot_date =now\n",
    "# Get end date 35 days from now\n",
    "end_date = now + timedelta(days=35)\n",
    "\n",
    "# Create a list of all dates between today and end date\n",
    "date_list = []\n",
    "while now <= end_date:\n",
    "    date_list.append(now.strftime('%Y-%m-%d'))\n",
    "    now += timedelta(days=1)\n",
    "\n",
    "\n",
    "#Creates a list whose every member is a list of checking and checkout time\n",
    "\n",
    "combinations_list =[]\n",
    "for i in range(1,len(date_list)-5):\n",
    "    for j in range(1,6):\n",
    "        combinations = [date_list[i],date_list[i+j]]\n",
    "        combinations_list.append(combinations)\n",
    "        \n",
    "print(combinations_list , len(combinations_list))        \n",
    "    "
   ]
  },
  {
   "cell_type": "code",
   "execution_count": null,
   "id": "1fd8e62f",
   "metadata": {},
   "outputs": [],
   "source": [
    "#for dev \n",
    "##combinations_list = [combinations_list[0]]\n",
    "#end dev\n",
    "city = \"new york\"\n",
    "numOfAdults=2\n",
    "numOfChild=0\n",
    "numOfRooms=1\n",
    "booking_df = pd.DataFrame(columns=['Snapshot','Index','Hotel Name','TTT' ,'LOS' ,\"Grade\",\"Num of Reviews\",\"Curr Price\",\"Original Price\",\n",
    "                                   \"Distance from center\",\"Type of room\",\"Location grade\", \"Extra Data\"])  \n",
    "Unsuccessful_list = []\n",
    "for comb in combinations_list:#run on the combinations list\n",
    "    #get the information on reservation time \n",
    "    checking_date_type = datetime.strptime(comb[0], '%Y-%m-%d')\n",
    "    checkout_date_type = datetime.strptime(comb[1], '%Y-%m-%d')\n",
    "    checking_date = comb[0].split('-')\n",
    "    checkout_date = comb[1].split('-')\n",
    "    checking_year = checking_date[0]\n",
    "    checking_month = checking_date[1]\n",
    "    checking_monthday =checking_date[2]\n",
    "    checkout_year= checkout_date[0]\n",
    "    checkout_month= checkout_date[1]\n",
    "    checkout_monthday= checkout_date[2]\n",
    "    url = f\"https://www.booking.com/searchresults.html?ss={city}&checkin_year={checking_year}&checkin_month={checking_month}&checkin_monthday={checking_monthday}&checkout_year={checkout_year}&checkout_month={checkout_month}&checkout_monthday={checkout_monthday}&group_adults={numOfAdults}&group_children={numOfChild}&no_rooms={numOfRooms}\"\n",
    "    booking_df = get_hotels(url, driver , booking_df, Snapshot_date,checking_date_type,checkout_date_type)\n",
    "    "
   ]
  },
  {
   "cell_type": "code",
   "execution_count": null,
   "id": "d9050f7b",
   "metadata": {},
   "outputs": [],
   "source": [
    "booking_df.head(6500)"
   ]
  },
  {
   "cell_type": "code",
   "execution_count": null,
   "id": "53cc131b",
   "metadata": {},
   "outputs": [],
   "source": [
    "booking_df.shape"
   ]
  },
  {
   "cell_type": "code",
   "execution_count": null,
   "id": "edcc26d6",
   "metadata": {},
   "outputs": [],
   "source": [
    "booking_df.groupby(['TTT','LOS']).count()"
   ]
  },
  {
   "cell_type": "code",
   "execution_count": null,
   "id": "66737482",
   "metadata": {},
   "outputs": [],
   "source": [
    "driver.quit()"
   ]
  },
  {
   "attachments": {},
   "cell_type": "markdown",
   "id": "54966412",
   "metadata": {},
   "source": [
    "save the df in csv"
   ]
  },
  {
   "cell_type": "code",
   "execution_count": null,
   "id": "43c6293f",
   "metadata": {},
   "outputs": [],
   "source": [
    "file_name = \"Booking_hotels.csv\"\n",
    "if os.path.exists(file_name):#if the \"Booking_hotels.csv\" exists\n",
    "    print(\"exists\")\n",
    "    booking_df.to_csv(file_name,mode = 'a' , index= False ,header=False)#append without the header\n",
    "else:\n",
    "    print(\"new\")\n",
    "    booking_df.to_csv(file_name,mode = 'a' , index= False ,header=True)#append with the header"
   ]
  },
  {
   "cell_type": "code",
   "execution_count": null,
   "id": "e36ebe90",
   "metadata": {},
   "outputs": [],
   "source": []
  }
 ],
 "metadata": {
  "kernelspec": {
   "display_name": "base",
   "language": "python",
   "name": "python3"
  },
  "language_info": {
   "codemirror_mode": {
    "name": "ipython",
    "version": 3
   },
   "file_extension": ".py",
   "mimetype": "text/x-python",
   "name": "python",
   "nbconvert_exporter": "python",
   "pygments_lexer": "ipython3",
   "version": "3.9.15"
  },
  "vscode": {
   "interpreter": {
    "hash": "1db614e67fd438712a01e1581f8f628c3a9adb3105580a2c65d9d58ef8ff4428"
   }
  }
 },
 "nbformat": 4,
 "nbformat_minor": 5
}
